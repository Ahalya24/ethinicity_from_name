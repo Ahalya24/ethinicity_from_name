{
 "cells": [
  {
   "cell_type": "code",
   "execution_count": 129,
   "metadata": {},
   "outputs": [],
   "source": [
    "import pandas as pd \n",
    "import numpy as np\n",
    "import spacy\n",
    "import glob\n",
    "import os\n",
    "import re"
   ]
  },
  {
   "cell_type": "code",
   "execution_count": 244,
   "metadata": {},
   "outputs": [],
   "source": [
    "path = 'C://Users/reach/Documents/datasets/data_name_matching/data/names/*.txt'\n",
    "files = glob.glob(path)"
   ]
  },
  {
   "cell_type": "code",
   "execution_count": 245,
   "metadata": {},
   "outputs": [
    {
     "name": "stdout",
     "output_type": "stream",
     "text": [
      "30561 unique : 29999\n",
      "Repeat Names: 562\n"
     ]
    }
   ],
   "source": [
    "#check for unique count in entire list \n",
    "name_list=[]\n",
    "for filename in files:\n",
    "    name_list.extend(set(open(filename, encoding='utf-8').read().split()))\n",
    "print (len(name_list) ,'unique :', len(set(name_list)))\n",
    "print (\"Repeat Names:\", len(name_list) - len(set(name_list)))"
   ]
  },
  {
   "cell_type": "code",
   "execution_count": 252,
   "metadata": {},
   "outputs": [
    {
     "data": {
      "text/plain": [
       "29999"
      ]
     },
     "execution_count": 252,
     "metadata": {},
     "output_type": "execute_result"
    }
   ],
   "source": [
    "#check for unique count in each list\n",
    "file_name_and_text = {}\n",
    "for filename in files:\n",
    "    ethinic_group = os.path.splitext(os.path.basename(filename))[0]\n",
    "    names = open(filename, encoding='utf-8').read().split()\n",
    "    for n in names:\n",
    "        file_name_and_text[n] = ethinic_group\n",
    "     \n",
    "    \n",
    "file_data = (pd.DataFrame.from_dict(file_name_and_text, orient='index').reset_index().rename(index = str, columns = {'index': 'name', 0: 'ethinicity'}))\n",
    "#file_data.to_csv('C://Users/reach/Documents/datasets/data_name_matching/data/op.csv')\n",
    "file_data.head(5)\n",
    "len(file_data)"
   ]
  },
  {
   "cell_type": "code",
   "execution_count": 247,
   "metadata": {},
   "outputs": [
    {
     "data": {
      "text/plain": [
       "29999"
      ]
     },
     "execution_count": 247,
     "metadata": {},
     "output_type": "execute_result"
    }
   ],
   "source": [
    "file_data[file_data['name'].duplicated() == True]\n",
    "len(file_data)"
   ]
  },
  {
   "cell_type": "code",
   "execution_count": null,
   "metadata": {},
   "outputs": [],
   "source": []
  }
 ],
 "metadata": {
  "kernelspec": {
   "display_name": "Python 3",
   "language": "python",
   "name": "python3"
  },
  "language_info": {
   "codemirror_mode": {
    "name": "ipython",
    "version": 3
   },
   "file_extension": ".py",
   "mimetype": "text/x-python",
   "name": "python",
   "nbconvert_exporter": "python",
   "pygments_lexer": "ipython3",
   "version": "3.7.3"
  }
 },
 "nbformat": 4,
 "nbformat_minor": 2
}
